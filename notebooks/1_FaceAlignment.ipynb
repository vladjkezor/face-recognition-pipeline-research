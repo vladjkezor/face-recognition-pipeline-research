{
 "cells": [
  {
   "cell_type": "markdown",
   "id": "0069c206",
   "metadata": {},
   "source": [
    "<h1> Задание:</h1>\n",
    "Реализовать и обучить Stacked Hourglass Network для поиска ключевых точек лица, а также написать код, который принимает на вход фотографию лица и возвращает выровненное лицо на основе найденных точек"
   ]
  },
  {
   "cell_type": "markdown",
   "id": "fa454124",
   "metadata": {},
   "source": [
    "![image.png](https://raw.githubusercontent.com/kjw9899/kjw9899.github.io/master/kjw9899/kjw9899.github.io/assets/images/image-20220331201742790.png)"
   ]
  },
  {
   "cell_type": "markdown",
   "id": "78ce26e6",
   "metadata": {},
   "source": [
    "Конкретные задачи:\n",
    "* Реализовать Hourglass блок\n",
    "* Реализовать Stacked Hourglass\n",
    "* Подготовить датасет, преобразовав точки в Heatmap'ы\n",
    "* Обучить модель\n",
    "* Найти или реализовать функцию, которая бы по предсказанным ключевым точкам делала бы выравнивание лица на картинке (face alignment)"
   ]
  },
  {
   "cell_type": "markdown",
   "id": "73cb2a42",
   "metadata": {},
   "source": [
    "<h1> Импорт библиотек</h1>"
   ]
  },
  {
   "cell_type": "code",
   "execution_count": null,
   "id": "e325be11",
   "metadata": {},
   "outputs": [],
   "source": [
    "import matplotlib.pyplot as plt\n",
    "import numpy as np\n",
    "import pandas as pd\n",
    "\n",
    "import torch\n",
    "import torch.nn as nn\n",
    "import torch.nn.functional as F\n",
    "import torch.optim as optim\n",
    "import torch.utils.data as data_utils\n",
    "from torch.utils.data import Dataset, DataLoader\n",
    "\n",
    "from torchvision import datasets\n",
    "import torchvision.transforms as transforms\n",
    "\n",
    "import os"
   ]
  },
  {
   "cell_type": "markdown",
   "id": "6248ec43",
   "metadata": {},
   "source": [
    "<h1>Hourglass block</h1>"
   ]
  },
  {
   "cell_type": "markdown",
   "id": "918a1989",
   "metadata": {},
   "source": [
    "Структура блока:"
   ]
  },
  {
   "cell_type": "markdown",
   "id": "c4b5b3a0",
   "metadata": {},
   "source": [
    "![image.png](https://i.postimg.cc/fyPxNwn0/images-qsdcfd-post-cac04e49-1042-4492-93fb-bf67f2365fc6-image.png)"
   ]
  },
  {
   "cell_type": "code",
   "execution_count": null,
   "id": "e006292b",
   "metadata": {},
   "outputs": [],
   "source": [
    "class ResidualBlock(nn.Module):\n",
    "    def __init__(self, in_channels, out_channels):\n",
    "        super().__init__()\n",
    "        self.skip = nn.Identity() if in_channels == out_channels else nn.Conv2d(in_channels, out_channels, 1)\n",
    "\n",
    "        self.conv1 = nn.Conv2d(in_channels, out_channels // 2, 1)\n",
    "        self.bn1 = nn.BatchNorm2d(out_channels // 2)\n",
    "        self.conv2 = nn.Conv2d(out_channels // 2, out_channels // 2, 3, padding=1)\n",
    "        self.bn2 = nn.BatchNorm2d(out_channels // 2)\n",
    "        self.conv3 = nn.Conv2d(out_channels // 2, out_channels, 1)\n",
    "        self.bn3 = nn.BatchNorm2d(out_channels)\n",
    "\n",
    "        self.relu = nn.ReLU(inplace=True)\n",
    "\n",
    "    def forward(self, x):\n",
    "        residual = self.skip(x)\n",
    "        x = self.relu(self.bn1(self.conv1(x)))\n",
    "        x = self.relu(self.bn2(self.conv2(x)))\n",
    "        x = self.bn3(self.conv3(x))\n",
    "        return self.relu(x + residual)"
   ]
  },
  {
   "cell_type": "code",
   "execution_count": null,
   "id": "166c3cde",
   "metadata": {},
   "outputs": [],
   "source": [
    "class DownSample(nn.Module):\n",
    "    def __init__(self, in_channels, out_channels):\n",
    "        super().__init__()\n",
    "        self.conv = ResidualBlock(in_channels, out_channels)\n",
    "        self.pool = nn.MaxPool2d(2, 2)\n",
    "\n",
    "    def forward(self, x):\n",
    "        skip = self.conv(x)\n",
    "        x = self.pool(skip)\n",
    "        return x, skip\n",
    "    \n",
    "\n",
    "class UpSample(nn.Module):\n",
    "    def __init__(self, in_channels, out_channels):\n",
    "        super().__init__()\n",
    "        self.upsample = nn.Upsample(scale_factor=2, mode='nearest')\n",
    "        self.conv = ResidualBlock(in_channels, out_channels)\n",
    "        \n",
    "\n",
    "    def forward(self, x, skip):\n",
    "        x = self.upsample(x)\n",
    "        x = self.conv(x + skip)\n",
    "        return x\n",
    "    "
   ]
  },
  {
   "cell_type": "code",
   "execution_count": null,
   "id": "4d011ff2",
   "metadata": {},
   "outputs": [],
   "source": [
    "class HourglassBlock(nn.Module):\n",
    "    def __init__(self, in_channels, features):\n",
    "        super().__init__()\n",
    "\n",
    "        self.down_1 = DownSample(in_channels, features)\n",
    "        self.down_2 = DownSample(features, features * 2)\n",
    "        self.down_3 = DownSample(features * 2, features * 4)\n",
    "        self.down_4 = DownSample(features * 4, features * 8)\n",
    "\n",
    "        self.bottleneck = nn.Sequential(\n",
    "            ResidualBlock(features * 8, features * 8),\n",
    "            ResidualBlock(features * 8, features * 8),\n",
    "            ResidualBlock(features * 8, features * 8)\n",
    "        )\n",
    "\n",
    "        self.up_1 = UpSample(features * 8, features * 4)\n",
    "        self.up_2 = UpSample(features * 4, features * 2)\n",
    "        self.up_3 = UpSample(features * 2, features)\n",
    "        self.up_4 = UpSample(features, in_channels)\n",
    "\n",
    "    def forward(self, x):\n",
    "        x, skip_1 = self.down_1(x)\n",
    "        x, skip_2 = self.down_2(x)\n",
    "        x, skip_3 = self.down_3(x)\n",
    "        x, skip_4 = self.down_4(x)\n",
    "\n",
    "        x = self.bottleneck(x)\n",
    "\n",
    "        x = self.up_1(x, skip_4)\n",
    "        x = self.up_2(x, skip_3)\n",
    "        x = self.up_3(x, skip_2)\n",
    "        x = self.up_4(x, skip_1)\n",
    "        \n",
    "        return x"
   ]
  },
  {
   "cell_type": "markdown",
   "id": "b49a9fb8",
   "metadata": {},
   "source": [
    "<h1>Stacked Hourglass Network</h1>"
   ]
  },
  {
   "cell_type": "markdown",
   "id": "ad3c781f",
   "metadata": {},
   "source": [
    "Hourglass block реализован, теперь нам надо сделать Stacked Hourglass Network, для этого нам также понадобится сделать голову для предсказывания heatmap'ов"
   ]
  },
  {
   "cell_type": "code",
   "execution_count": null,
   "id": "34e90abe",
   "metadata": {},
   "outputs": [],
   "source": [
    "class Head(nn.Module):\n",
    "    def __init__(self, in_channels, out_channels):\n",
    "        super().__init__()\n",
    "        self.head = nn.Sequential(\n",
    "            nn.Conv2d(in_channels, in_channels, kernel_size=3, padding=1),\n",
    "            nn.BatchNorm2d(in_channels),\n",
    "            nn.ReLU(inplace=True),\n",
    "            nn.Conv2d(in_channels, out_channels, kernel_size=1)\n",
    "        )\n",
    "    \n",
    "    def forward(self, x):\n",
    "        return self.head(x)"
   ]
  },
  {
   "cell_type": "markdown",
   "id": "514623aa",
   "metadata": {},
   "source": [
    "Выдержка из статьи: \n",
    "Illustration of the intermediate supervision process. The network splits and produces a set of heatmaps (outlined in blue) where a loss can be applied. A 1x1 convolution remaps the heatmaps to match the number of channels of the intermediate features. These are added together along with the features from the preceding hourglass\n",
    "![Stacked Hourglass](data:image/png;base64,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)"
   ]
  },
  {
   "cell_type": "markdown",
   "id": "658a14fb",
   "metadata": {},
   "source": [
    "Также выдержка из статьи: After reaching the output resolution of the network, two consecutive rounds of 1x1 convolutions are applied to produce the final network predictions. The output of the network is a set of heatmaps where for a given heatmap the network predicts the probability of a joint’s presence at each and every pixel. "
   ]
  },
  {
   "cell_type": "markdown",
   "id": "2633aa44",
   "metadata": {},
   "source": [
    "Получается, по схеме: После hourglass block мы получаем heatmap, используя голову, после этого нужно сделать remap(heatmap) с помощью conv 1x1(я также добавил batchnorm и relu), результат hourglass прогоняем через две свертки 1x1, и на следующую итерацию подаем сумму remap, результата текущей hourglass и результата с предыдущей итерации"
   ]
  },
  {
   "cell_type": "code",
   "execution_count": null,
   "id": "90643929",
   "metadata": {},
   "outputs": [],
   "source": [
    "class StackedHourglass(nn.Module):\n",
    "    def __init__(self, in_channels, features, num_blocks, num_keypoints):\n",
    "        super().__init__()\n",
    "        self.num_blocks = num_blocks\n",
    "\n",
    "        self.hourglass = nn.ModuleList(HourglassBlock(in_channels, features) for _ in range(self.num_blocks))\n",
    "        self.head = nn.ModuleList(Head(in_channels, num_keypoints) for _ in range(self.num_blocks))\n",
    "\n",
    "        self.remap = nn.ModuleList(nn.Sequential(\n",
    "            nn.Conv2d(num_keypoints, in_channels, kernel_size=1),\n",
    "            nn.BatchNorm2d(in_channels),\n",
    "            nn.ReLU(inplace=True),\n",
    "        ) for _ in range(self.num_blocks - 1))\n",
    "\n",
    "        self.f_i = nn.ModuleList(nn.Sequential(\n",
    "            nn.Conv2d(in_channels, in_channels, kernel_size=1),\n",
    "            nn.BatchNorm2d(in_channels),\n",
    "            nn.ReLU(inplace=True),\n",
    "            nn.Conv2d(in_channels, in_channels, kernel_size=1)\n",
    "        ) for _ in range(self.num_blocks - 1))\n",
    "\n",
    "    def forward(self, x):\n",
    "        outputs = []    # список для хранения heatmap'ов после каждой головы \n",
    "\n",
    "        for i in range(self.num_blocks):\n",
    "            previous_x = x\n",
    "            x = self.hourglass[i](x)\n",
    "            heatmap = self.head[i](x) \n",
    "            outputs.append(heatmap)\n",
    "            if i < self.num_blocks - 1:\n",
    "                x = previous_x + self.remap[i](heatmap) + self.f_i[i](x)\n",
    "\n",
    "        return outputs"
   ]
  },
  {
   "cell_type": "markdown",
   "id": "1ca315c2",
   "metadata": {},
   "source": [
    "<h1>CelebA</h1>"
   ]
  },
  {
   "cell_type": "markdown",
   "id": "065f7fe7",
   "metadata": {},
   "source": [
    "В торче уже есть celeba, но там уже выровненные фото, поэтому я скачал невыровненные фотки вручную."
   ]
  },
  {
   "cell_type": "code",
   "execution_count": null,
   "id": "2d355e14",
   "metadata": {},
   "outputs": [],
   "source": [
    "class CelebA(Dataset):\n",
    "    def __init__(self, root, split='train', transform=None):\n",
    "    "
   ]
  },
  {
   "cell_type": "code",
   "execution_count": null,
   "id": "2ee988e4",
   "metadata": {},
   "outputs": [],
   "source": []
  }
 ],
 "metadata": {
  "kernelspec": {
   "display_name": "base",
   "language": "python",
   "name": "python3"
  },
  "language_info": {
   "codemirror_mode": {
    "name": "ipython",
    "version": 3
   },
   "file_extension": ".py",
   "mimetype": "text/x-python",
   "name": "python",
   "nbconvert_exporter": "python",
   "pygments_lexer": "ipython3",
   "version": "3.12.9"
  }
 },
 "nbformat": 4,
 "nbformat_minor": 5
}
